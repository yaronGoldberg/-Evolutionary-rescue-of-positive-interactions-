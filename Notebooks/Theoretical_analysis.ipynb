{
 "cells": [
  {
   "cell_type": "markdown",
   "metadata": {},
   "source": [
    "# Evolutionary rescue of positive interactions - Theoretical analysis\n",
    "\n",
    "This notebook contains the theoretical analysis of evolutionary rescue probability in populations engaged with positive interactions. \n",
    "\n",
    "Briefly, Since rescue probability is dependent on  the rescue time window - the time window during which adapted mutants can rise and prevent the population’s extinction - we construct an approximation of this time window first. We approximate the rescue time window by calculating the difference between the time it takes the ancestral population to decline to the critical population size, and the time it takes adapted mutants to grow sufficiently in order to rescue the population from collapse. The approximation of the rescue probability of populations engaged in intrasepceis cooperation and mutualism is then calculated seperately.\n",
    "\n",
    "Full description of the analysis can be found in **Section 3** in the supplementary information:\n",
    "\n",
    "https://www.biorxiv.org/content/10.1101/2020.08.06.239608v1\n"
   ]
  },
  {
   "cell_type": "code",
   "execution_count": 25,
   "metadata": {},
   "outputs": [],
   "source": [
    "# imports\n",
    "\n",
    "from matplotlib import pyplot as plt\n",
    "import numpy as np\n",
    "from scipy.integrate import quad\n",
    "import scipy.stats as sts\n",
    "from scipy.linalg import solve as solve\n",
    "from scipy import optimize"
   ]
  },
  {
   "cell_type": "markdown",
   "metadata": {},
   "source": [
    "## Analytic approximations"
   ]
  },
  {
   "cell_type": "markdown",
   "metadata": {},
   "source": [
    "Time expression:\n",
    "$$r' = r- \\delta$$\n",
    "\n",
    "$$K' = \\frac{Kr'}{r}$$\n",
    "\n",
    "$$t(N_0,N,r) = \\frac{1}{r'}\\ln\\big(\\frac{\\frac{K'}{N_0}-1}{\\frac{K'}{N}-1}\\big)$$"
   ]
  },
  {
   "cell_type": "code",
   "execution_count": 30,
   "metadata": {},
   "outputs": [],
   "source": [
    "def calc_time(N0,N,r,d,K):  \n",
    "    ''' \n",
    "    Calculate the time it takes species to get from N0 to N \n",
    "        N0 - Initial population size\n",
    "        N - Final population size\n",
    "        r - Growth rate\n",
    "        d - Death rate\n",
    "        K - Carrying cpacity\n",
    "    return time\n",
    "    '''\n",
    "    \n",
    "    r_new = r - d\n",
    "    K_new = (K*r_new)/r\n",
    "    \n",
    "    return (1/(r_new))*(np.log((K_new/N0-1)/(K_new/N-1)))"
   ]
  },
  {
   "cell_type": "markdown",
   "metadata": {},
   "source": [
    "Population density expression:\n",
    "\n",
    "$$N(t) =  \\frac{K'N0}{N_0+(K'-N_0)e^{-r't}}$$"
   ]
  },
  {
   "cell_type": "code",
   "execution_count": 31,
   "metadata": {},
   "outputs": [],
   "source": [
    "def calc_N(t,N0,r,d,K):\n",
    "    ''' \n",
    "    Calculate populations size at time t\n",
    "        t - timepoint\n",
    "        N0 - Initial population size\n",
    "        r - Growth rate\n",
    "        d - Death rate\n",
    "        K - Carrying cpacity\n",
    "    return population size\n",
    "    '''\n",
    "    r_new = r - d\n",
    "    K_new = (K*r_new)/r\n",
    "    return (K_new*N0)/(N0+(K_new-N0)*np.exp(-r_new*t))"
   ]
  },
  {
   "cell_type": "markdown",
   "metadata": {},
   "source": [
    "Population density without neglecting competition:\n",
    "\n",
    "$$N_1(t) =  N_0e^{(r(1-\\frac{N_2(t)}{K})-\\delta)t}$$"
   ]
  },
  {
   "cell_type": "code",
   "execution_count": 48,
   "metadata": {},
   "outputs": [],
   "source": [
    "def calc_N_competition(t,N1,N2,r1,r2,d,K):  \n",
    "    ''' \n",
    "    Calculate populations size at time t in the presence of other competing species\n",
    "        t - timepoint\n",
    "        N1 - Initial population size \n",
    "        N2 - Initial population size of competing species\n",
    "        r1 - Growth rate\n",
    "        r2 - Growth rate of competing species\n",
    "        d - Death rate\n",
    "        K - Carrying cpacity\n",
    "    return population size\n",
    "    '''\n",
    "    \n",
    "    return N1*(np.exp((r1*(1-calc_N(t,N2,r2,d,K)/K)-d)*t)) "
   ]
  },
  {
   "cell_type": "markdown",
   "metadata": {},
   "source": [
    "Population density integration:\n",
    "    \n",
    "$$\\int_{0}^{t}N \\ dt=   \\frac{K'}{r'}\\log(\\frac{N_0 (e^{r' t}-1)}{K'}+1) $$"
   ]
  },
  {
   "cell_type": "code",
   "execution_count": 24,
   "metadata": {},
   "outputs": [],
   "source": [
    "def calc_int_N(t,N0,r,d,K):\n",
    "    ''' \n",
    "    Integrate population size in t0=0 to t \n",
    "        N0 - Initial population size\n",
    "        t - Final timepoint\n",
    "        r - Growth rate\n",
    "        d - Death rate\n",
    "        K - Carrying cpacity\n",
    "    return integrted value\n",
    "    '''\n",
    "    if(np.all(t<0)):\n",
    "        return 0\n",
    "    r_new = r - d\n",
    "    K_new = (K*r_new)/r\n",
    "    return (K_new/r_new)*np.log(np.abs((N0*np.exp(r_new*t)-N0)/K_new+1)) "
   ]
  },
  {
   "cell_type": "markdown",
   "metadata": {},
   "source": [
    "Derivative:\n",
    "\n",
    "$$\\frac{dN_i}{dt} = r_i N_i(1-\\frac{\\sum{N_j}}{K}) - \\delta N_i$$\n"
   ]
  },
  {
   "cell_type": "code",
   "execution_count": 26,
   "metadata": {},
   "outputs": [],
   "source": [
    "def derivative(N,t,r,K,d):\n",
    "    '''\n",
    "    The derivative used in simulations\n",
    "        N - Population sizes\n",
    "        t - time \n",
    "        r - Growth rates\n",
    "        K - Carrying capacity\n",
    "        d - Death rate \n",
    "    return derivative\n",
    "    '''\n",
    "    dN = r*N*(1-(np.sum(N))/K)- d*N\n",
    "    return dN"
   ]
  },
  {
   "cell_type": "code",
   "execution_count": 42,
   "metadata": {},
   "outputs": [],
   "source": [
    "def derivative_total(M,A,ra,rm,K,d):\n",
    "    ''' \n",
    "    Calculate the derivative of total population size (N=A+M)\n",
    "        A - Ancestor population size\n",
    "        M - Mutant population size\n",
    "        r - Ancestor growth rate \n",
    "        rm - Mutatnt growth rate\n",
    "        d - Death rate\n",
    "        K - Carrying cpacity\n",
    "    return total populations size\n",
    "    '''\n",
    "    r = np.array([ra,rm])\n",
    "    return derivative(np.array([A,M]),0,r,K,d).sum()"
   ]
  },
  {
   "cell_type": "markdown",
   "metadata": {},
   "source": [
    "The time at which the mutant reaches steady state:\n",
    "\n",
    "$$t_c = \\frac{K'(r_M'-\\delta)}{2r_M'}$$"
   ]
  },
  {
   "cell_type": "code",
   "execution_count": 121,
   "metadata": {},
   "outputs": [],
   "source": [
    "def calc_tc(rm,d,K):\n",
    "    ''' \n",
    "    Calculate the time mutant reaches steady state\n",
    "        rm - Growth rate\n",
    "        d - Death rate\n",
    "        K - Carrying cpacity\n",
    "    return the time\n",
    "    '''\n",
    "    r_new= rm-d\n",
    "    K_new = ((K/2)*r_new)/rm\n",
    "    \n",
    "    return calc_time(1,K_new-1,rm,d,K)\n"
   ]
  },
  {
   "cell_type": "markdown",
   "metadata": {},
   "source": [
    "time-dependent carrying capacity:\n",
    "\n",
    "$$K(t) = \\frac{K'/2}{1+e^{r_M'(t-t_c)}}$$"
   ]
  },
  {
   "cell_type": "code",
   "execution_count": 133,
   "metadata": {},
   "outputs": [],
   "source": [
    "def K_var(t,r,rm,d,K):\n",
    "    ''' \n",
    "    time-dependent carrying capacity\n",
    "        r - Ancestor growth rate\n",
    "        rm - Mutant growth rate\n",
    "        d - Death rate\n",
    "        K - Fixed carrying cpacity\n",
    "    return the carrying capacity\n",
    "    '''\n",
    "    r_new = r - d\n",
    "    K_new = ((K/2)*r_new)/r\n",
    "    \n",
    "    tc = calc_tc(rm,d,K)\n",
    "    return (K_new)/(1+np.exp((t-tc)*(rm-d)))\n"
   ]
  },
  {
   "cell_type": "code",
   "execution_count": 134,
   "metadata": {},
   "outputs": [],
   "source": [
    "def calc_N_var_K(t,N0,r,rm,d,K):\n",
    "    ''' \n",
    "    Caculate the population density with time-dependent carrying capacity\n",
    "        t - timepoint\n",
    "        r - Ancestor growth rate\n",
    "        rm - Mutant growth rate\n",
    "        d - Death rate\n",
    "        K - Fixed carrying cpacity\n",
    "    return the carrying capacity\n",
    "    '''  \n",
    "    \n",
    "    r_new = r - d\n",
    "    K_new = K_var(t,r,rm,d,K)\n",
    "    \n",
    "    return (K_new*N0)/(N0+(K_new-N0)*np.exp(-r_new*t))"
   ]
  },
  {
   "cell_type": "markdown",
   "metadata": {},
   "source": [
    "## Rescue time window\n",
    "\n",
    "$$\\quad t_m = t(A_{0},N_{c},r_A) - t(1,M_{final},r_{M}) $$"
   ]
  },
  {
   "cell_type": "code",
   "execution_count": 78,
   "metadata": {},
   "outputs": [],
   "source": [
    "def rescue_time_window(r,rm,d,mu,Nc,K):\n",
    "    ''' \n",
    "    Calculate the rescue time window of population engaged in intraspecies cooperation\n",
    "        r - Ancestor growth rate \n",
    "        rm - Mutatnt growth rate\n",
    "        d - Death rate\n",
    "        mu - Mutation rate\n",
    "        Nc - Critical population size\n",
    "        K - Carrying cpacity\n",
    "    return rescue time window\n",
    "    '''\n",
    "    \n",
    "    # initial ancestor population size\n",
    "    A0=(K)*(1-d/rm) \n",
    "    \n",
    "    # Minimal population size of mutants for which total population size is positive\n",
    "    M_min= optimize.fsolve(derivative_total,K/10,args=(Nc,r,rm1,K,d),full_output=True)[0][0] \n",
    "    \n",
    "    # Final population size of mutants\n",
    "    M_fin =np.min([Nc,M_min])\n",
    "    \n",
    "    \n",
    "    \n",
    "    # Numerically extract time for which mutant is above Mfin\n",
    "    x=np.linspace(0,1000,100000)\n",
    "    for l in x:\n",
    "        if calc_N_competition(l,1,A0,rm,r,d,K)>M_fin:\n",
    "            time1=l\n",
    "            break    \n",
    "            \n",
    "    # Calculate time it takes ancestor to get to Nc\n",
    "    time2 = calc_time(A0,Nc,r,d,K) \n",
    "    \n",
    "    rescue_time_window = np.max([0,time2- time1])\n",
    "    \n",
    "    return rescue_time_window"
   ]
  },
  {
   "cell_type": "markdown",
   "metadata": {},
   "source": [
    "### Rescue probability of Intraspecies cooperation"
   ]
  },
  {
   "cell_type": "code",
   "execution_count": 79,
   "metadata": {},
   "outputs": [],
   "source": [
    "def cooperation_Pr(r,rm,d,mu,Nc,K):\n",
    "    ''' \n",
    "    Calculate the rescue probability of population engaged in intraspecies cooperation\n",
    "        r - Ancestor growth rate \n",
    "        rm - Mutatnt growth rate\n",
    "        d - Death rate\n",
    "        mu - Mutation rate\n",
    "        Nc - Critical population size\n",
    "        K - Carrying cpacity\n",
    "    return rescue probability\n",
    "    '''\n",
    "    \n",
    "    # initial ancestor population size\n",
    "    A0=(K)*(1-d/rm) \n",
    "    \n",
    "    # Calculate rescue time window\n",
    "    rtw = rescue_time_window(r,rm,d,mu,Nc,K)\n",
    "    \n",
    "    # Calculate expected number of mutation events\n",
    "    Mexp = mu*calc_int_N(rtw,A0,r,d,K) \n",
    "    \n",
    "    # Get rescue probability\n",
    "    rescue_probability = sts.poisson(Mexp).sf(0)\n",
    "    \n",
    "    return rescue_probability"
   ]
  },
  {
   "cell_type": "markdown",
   "metadata": {},
   "source": [
    "## Rescue probability of mutualism"
   ]
  },
  {
   "cell_type": "code",
   "execution_count": 136,
   "metadata": {},
   "outputs": [],
   "source": [
    "def mutualism_Pr(r,rm,d,mu,Nc,K):\n",
    "    ''' \n",
    "    Calculate the rescue probability of population engaged in mutualism\n",
    "        r - Ancestor growth rate \n",
    "        rm - Mutatnt growth rate\n",
    "        d - Death rate\n",
    "        mu - Mutation rate\n",
    "        Nc - Critical population size\n",
    "        K - Carrying cpacity\n",
    "    return rescue probability\n",
    "    '''\n",
    "    \n",
    "    #### First mutational event ####\n",
    "    \n",
    "    K_first = K/2\n",
    "    \n",
    "    # initial ancestor population size\n",
    "    A0=(K_first)*(1-d/rm) \n",
    "    \n",
    "    # Calculate rescue time window\n",
    "    rtw = rescue_time_window(r,rm,d,mu,Nc,K_first)\n",
    "    \n",
    "    # Calculate expected number of mutation events\n",
    "    Mexp1 = mu*calc_int_N(rtw,A0,r,d,K_first)*2 \n",
    "\n",
    "    \n",
    "    #### Second mutational event ####\n",
    "    \n",
    "    Mexp2 = mu*quad(calc_N_var_K,1,rtw,args=(A0,r,rm,d,K))[0]\n",
    "\n",
    "    \n",
    "    # Get rescue probability\n",
    "    rescue_probability = sts.poisson(Mexp1).sf(0)*sts.poisson(Mexp2).sf(0)\n",
    "    \n",
    "    return rescue_probability"
   ]
  }
 ],
 "metadata": {
  "kernelspec": {
   "display_name": "Python 3",
   "language": "python",
   "name": "python3"
  },
  "language_info": {
   "codemirror_mode": {
    "name": "ipython",
    "version": 3
   },
   "file_extension": ".py",
   "mimetype": "text/x-python",
   "name": "python",
   "nbconvert_exporter": "python",
   "pygments_lexer": "ipython3",
   "version": "3.7.7"
  },
  "varInspector": {
   "cols": {
    "lenName": 16,
    "lenType": 16,
    "lenVar": 40
   },
   "kernels_config": {
    "python": {
     "delete_cmd_postfix": "",
     "delete_cmd_prefix": "del ",
     "library": "var_list.py",
     "varRefreshCmd": "print(var_dic_list())"
    },
    "r": {
     "delete_cmd_postfix": ") ",
     "delete_cmd_prefix": "rm(",
     "library": "var_list.r",
     "varRefreshCmd": "cat(var_dic_list()) "
    }
   },
   "types_to_exclude": [
    "module",
    "function",
    "builtin_function_or_method",
    "instance",
    "_Feature"
   ],
   "window_display": false
  }
 },
 "nbformat": 4,
 "nbformat_minor": 4
}
