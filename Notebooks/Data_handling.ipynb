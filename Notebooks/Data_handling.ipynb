{
 "cells": [
  {
   "cell_type": "markdown",
   "metadata": {},
   "source": [
    "# Evolutionary rescue of positive interactions - Data handling\n",
    "\n",
    "This notebook contains a parser for raw simulation results and plotting of rescue probabilities of different interactions\n",
    "\n",
    "Raw data is in the form of binary sequence where 0 is extinction and 1 is rescue. Data stemmed for multiple parameter simulations (run with nested loops) is in the form of 1d sequence with linear indexing (param1,param2,rounds).\n",
    "\n",
    "\n",
    "Data used in the paper and it's corresponding figures can be found in the data folder.\n",
    "\n",
    "Parameters table can be found in **table S1** in the supplementary information:\n",
    "\n",
    "https://www.biorxiv.org/content/10.1101/2020.08.06.239608v1"
   ]
  },
  {
   "cell_type": "code",
   "execution_count": 6,
   "metadata": {},
   "outputs": [],
   "source": [
    "# Imports\n",
    "\n",
    "from matplotlib import pyplot as plt\n",
    "import numpy as np\n",
    "import pandas as pd\n",
    "import seaborn as sns"
   ]
  },
  {
   "cell_type": "code",
   "execution_count": 10,
   "metadata": {},
   "outputs": [],
   "source": [
    "def parse_table(data,rounds,params):\n",
    "    ''' \n",
    "    Parser of raw data\n",
    "        data - Raw data\n",
    "        rounds - Number of rounds for each parameter combination\n",
    "        params - Dictionary in which the key is the parameter name (string) and the value is the parameters used (array)\n",
    "    return a table with the parameters and the corresponding evolutionary rescue probability \n",
    "    '''\n",
    "\n",
    "    keys = list(params.keys())\n",
    "    values = list(params.values())\n",
    "    param_nums = np.array([val.shape[0] for val in values])\n",
    "    ps = np.zeros(np.prod(param_nums))\n",
    "    \n",
    "    for i,res in enumerate(np.array(np.split(data,np.prod(param_nums)))):\n",
    "        \n",
    "        rounds_cur = rounds\n",
    "        not_ended = np.sum(res==-1)\n",
    "        \n",
    "        if not_ended:\n",
    "            print('Warning - '+ str(not_ended)+ ' simulations did not end')\n",
    "            rounds_cur=rounds - np.sum(res==-1)\n",
    "        \n",
    "        ps[i] = res.sum()/rounds_cur\n",
    "        \n",
    "    df = pd.DataFrame(data=ps,columns=['Rescue probability'])\n",
    "    \n",
    "    if len(keys)>1:\n",
    "        df[keys[0]] = np.ravel([param_nums[1]*[j] for j in values[0]])\n",
    "\n",
    "        df[keys[1]] = np.ravel(param_nums[0]*[values[1]])\n",
    "    else:\n",
    "        df[keys[0]] = values[0]\n",
    "    return df"
   ]
  },
  {
   "cell_type": "code",
   "execution_count": 108,
   "metadata": {},
   "outputs": [],
   "source": [
    "def plot_data(data):\n",
    "    ''' \n",
    "    Plot rescue probabilities\n",
    "        data - Dictionary in which the key is the interaction name (string) and the value is the data (parsed table)\n",
    "    '''    \n",
    "    \n",
    "    \n",
    "    interactions = list(data.keys())\n",
    "    rows = np.max([table.shape[0] for table in list(data.values())])\n",
    "    ps = np.full([len(interactions),rows],np.NAN)\n",
    "    for i,table in enumerate(list(data.values())):\n",
    "        size = table.shape[0]\n",
    "        ps[i][:size] = table['Rescue probability']\n",
    "\n",
    "    plot_data = pd.DataFrame(ps,index=interactions).T.melt(var_name='Interaction type',value_name='Rescue probability')\n",
    "    sns.swarmplot(data=plot_data,x='Interaction type',y='Rescue probability')  \n",
    "    ax=sns.boxplot(data=plot_data,x='Interaction type',y='Rescue probability', color='whitesmoke',showfliers = False)\n"
   ]
  },
  {
   "cell_type": "code",
   "execution_count": 110,
   "metadata": {},
   "outputs": [
    {
     "data": {
      "image/png": "[encoded data removed]",
      "text/plain": [
       "<Figure size 432x288 with 1 Axes>"
      ]
     },
     "metadata": {
      "needs_background": "light"
     },
     "output_type": "display_data"
    }
   ],
   "source": [
    "#### Example of usage with cooperation and mutualism data ####\n",
    "\n",
    "# Number of rounds for each parameter combination\n",
    "rounds=1000\n",
    "\n",
    "# Parameters used in simulation\n",
    "d=1\n",
    "Ncs=np.array([1,50,100,500,1000,5000,10000,50000,100000,500000])\n",
    "rms = np.array(np.arange(1.4,2.6,0.13))/1.3\n",
    "rs = np.array(np.arange(0.84,1.3,0.05))/1.3\n",
    "div_r = np.array([np.round((rms[i]-d)/(d-rs[i]),1) for i in range(rms.shape[0])])\n",
    "\n",
    "# Create parameters dictionary (in the order of the loop)\n",
    "params = {'Nc':Ncs,'Growth ratios':div_r}\n",
    "\n",
    "# Parse data\n",
    "data_coop = np.loadtxt('../Data/Main/Raw/Cooperation_main.txt')\n",
    "parsed_coop = parse_table(data_coop,rounds,params)\n",
    "\n",
    "data_mutualism = np.loadtxt('../Data/Main/Raw/Mutualism_main.txt')\n",
    "parsed_mut = parse_table(data_mutualism,rounds,params)\n",
    "\n",
    "# Creat dictionary for plot\n",
    "\n",
    "data_all = {'Cooperation':parsed_coop,'Mutualism':parsed_mut}\n",
    "\n",
    "plot_data(data_all)\n"
   ]
  }
 ],
 "metadata": {
  "kernelspec": {
   "display_name": "Python 3",
   "language": "python",
   "name": "python3"
  },
  "language_info": {
   "codemirror_mode": {
    "name": "ipython",
    "version": 3
   },
   "file_extension": ".py",
   "mimetype": "text/x-python",
   "name": "python",
   "nbconvert_exporter": "python",
   "pygments_lexer": "ipython3",
   "version": "3.7.7"
  },
  "varInspector": {
   "cols": {
    "lenName": 16,
    "lenType": 16,
    "lenVar": 40
   },
   "kernels_config": {
    "python": {
     "delete_cmd_postfix": "",
     "delete_cmd_prefix": "del ",
     "library": "var_list.py",
     "varRefreshCmd": "print(var_dic_list())"
    },
    "r": {
     "delete_cmd_postfix": ") ",
     "delete_cmd_prefix": "rm(",
     "library": "var_list.r",
     "varRefreshCmd": "cat(var_dic_list()) "
    }
   },
   "types_to_exclude": [
    "module",
    "function",
    "builtin_function_or_method",
    "instance",
    "_Feature"
   ],
   "window_display": false
  }
 },
 "nbformat": 4,
 "nbformat_minor": 4
}
